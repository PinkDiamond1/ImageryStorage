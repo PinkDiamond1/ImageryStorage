{
 "cells": [
  {
   "cell_type": "code",
   "execution_count": 1,
   "metadata": {},
   "outputs": [],
   "source": [
    "import sys, os, json, importlib, zipfile, shutil, datetime\n",
    "import rasterio, geohash\n",
    "import geopandas as gpd\n",
    "import pandas as pd\n",
    "import numpy as np\n",
    "import shapely.wkt\n",
    "\n",
    "from shapely.geometry import shape, Polygon\n",
    "\n",
    "#Get reference to imagery object\n",
    "sys.path.append('../src')\n",
    "\n",
    "from ImageryObjects import imageryExtents"
   ]
  },
  {
   "cell_type": "code",
   "execution_count": 2,
   "metadata": {},
   "outputs": [
    {
     "name": "stderr",
     "output_type": "stream",
     "text": [
      "C:\\WBG\\Anaconda\\envs\\geography\\lib\\site-packages\\pyproj\\crs\\crs.py:53: FutureWarning: '+init=<authority>:<code>' syntax is deprecated. '<authority>:<code>' is the preferred initialization method. When making the change, be mindful of axis order changes: https://pyproj4.github.io/pyproj/stable/gotchas.html#axis-order-changes-in-proj-6\n",
      "  return _prepare_from_string(\" \".join(pjargs))\n"
     ]
    }
   ],
   "source": [
    "globalBoundaries = r\"R:\\GLOBAL\\ADMIN\\Official Bank Borders\\Polygons\\Admin0\\Admin0_Polys.shp\"\n",
    "globalBoundaries = gpd.read_file(globalBoundaries)\n",
    "globalBoundaries = globalBoundaries.to_crs({'init': 'epsg:4326'})"
   ]
  },
  {
   "cell_type": "markdown",
   "metadata": {},
   "source": [
    "# Extracting Imagery Metadata\n",
    "This script is designed to extract metadata from our imagery repositories. How the information is to be processed is yet to be determined, but we need to extract the following metadata\n",
    "\n",
    "### Metadata extracted from imagery\n",
    "1. Title\n",
    "2. Country ISO3\n",
    "3. Storage location\n",
    "4. Size zipped\n",
    "5. Resolution\n",
    "6. Number of bands\n",
    "\n",
    "### Metadata extracted from deliverable\n",
    "1. Vendor\n",
    "2. Sensor\n",
    "3. Data of Capture\n",
    "\n",
    "### Manually entered information\n",
    "1. WB project number\n",
    "2. Security classification\n",
    "\n",
    "# Process and Folder structure\n",
    "Robert Harrison manages the process for the Geocenter, Xiuzhu Yang does the development\n",
    "\n",
    "## Folder Definitions\n",
    "<b>Ingest</b> - folder where GOST deposits JSON and zipfiles for upload to platform.  \n",
    "<b>ImageryWithErrors</b> - where problematic images are moved from Ingest when errors are encountered.  \n",
    "<b>Errorreport</b> - logging information, with daily logs of status. Daily logs only indicate an error occured; need to go to server to get complete log.  \n"
   ]
  },
  {
   "cell_type": "markdown",
   "metadata": {},
   "source": [
    "## Generate information to process"
   ]
  },
  {
   "cell_type": "code",
   "execution_count": 4,
   "metadata": {},
   "outputs": [],
   "source": [
    "sourceFolder =    r\"R:\\IMAGERY\"# The folder of imagery to process\n",
    "\n",
    "# These two should not be changed - if you do not have access to the I drive, contact Robert Mansour\n",
    "outFolder =       r\"I:\\ddhfiles\\internal\\imagerysource\\Ingest\"\n",
    "processedFolder = r\"I:\\ddhfiles\\internal\\imagerysource\\Processed\" \n",
    "processedErrorFolder = r\"I:\\ddhfiles\\internal\\imagerysource\\ImageryWithErrors\" \n",
    "log_Folder      = r\"I:\\ddhfiles\\internal\\imagerysource\\GOST_Ingest_Log\" \n",
    "\n",
    "processed_file = os.path.join(log_Folder, \"already_processed.txt\")\n",
    "bad_meta_file = os.path.join(log_Folder, \"bad_meta_folders.txt\")\n",
    "error_file = os.path.join(log_Folder, \"error_folders.txt\")"
   ]
  },
  {
   "cell_type": "code",
   "execution_count": 5,
   "metadata": {},
   "outputs": [],
   "source": [
    "#Open list of processed folders and ignore\n",
    "processed_log = os.path.join(log_Folder, \"footgeo.csv\")\n",
    "in_log = pd.read_csv(processed_log)\n",
    "processed_files = in_log['Footprint_ID'].values"
   ]
  },
  {
   "cell_type": "code",
   "execution_count": 6,
   "metadata": {},
   "outputs": [
    {
     "data": {
      "text/plain": [
       "array(['NGA_s617ksgb4b9b_4_0.5_20201111',\n",
       "       'IDN_qxg0gwyh9vvg_4_0.34_20180618',\n",
       "       'NGA_s6173jpbzdt8_4_0.3_20201029',\n",
       "       'NGA_s617dbxuwg3n_4_0.5_20201016',\n",
       "       'GMB_edkh5vr8ydgr_1_0.5_20200209'], dtype=object)"
      ]
     },
     "execution_count": 6,
     "metadata": {},
     "output_type": "execute_result"
    }
   ],
   "source": [
    "processed_files[:5]"
   ]
  },
  {
   "cell_type": "code",
   "execution_count": 7,
   "metadata": {},
   "outputs": [],
   "source": [
    "# Generating lists of zipFiles and tif files\n",
    "zipFiles = []\n",
    "imgFolders = []\n",
    "\n",
    "for root, dirs, files in os.walk(sourceFolder):\n",
    "    for f in files:\n",
    "        if f[-4:] in [\".zip\", \".rar\"]:\n",
    "            zipFiles.append(os.path.join(root, f))\n",
    "        if f[-4:] in [\".tif\", \".TIF\", '.JP2']:\n",
    "            process=True\n",
    "            for x in ['spfeas', 'MappyFeatures', 'Spatial_features', 'LandScan_2012']:\n",
    "                if x in root:\n",
    "                    process = False\n",
    "                if process and not root in imgFolders:\n",
    "                    imgFolders.append(root)"
   ]
  },
  {
   "cell_type": "code",
   "execution_count": 8,
   "metadata": {},
   "outputs": [
    {
     "name": "stdout",
     "output_type": "stream",
     "text": [
      "120\n",
      "906\n"
     ]
    }
   ],
   "source": [
    "print(len(zipFiles))\n",
    "print(len(imgFolders))"
   ]
  },
  {
   "cell_type": "code",
   "execution_count": null,
   "metadata": {
    "scrolled": true
   },
   "outputs": [],
   "source": [
    "''' DEBUGGING \n",
    "importlib.reload(imageryExtents)\n",
    "inFolder = imgFolders[0]\n",
    "imgObj = imageryExtents.deliveredImageryFolder(inFolder, outFolder, globalBoundaries, \"\") \n",
    "imgObj.jsonFile\n",
    "'''"
   ]
  },
  {
   "cell_type": "code",
   "execution_count": null,
   "metadata": {
    "scrolled": true
   },
   "outputs": [
    {
     "name": "stdout",
     "output_type": "stream",
     "text": [
      "I:\\ddhfiles\\internal\\imagerysource\\Ingest\\KHM_w63gfv3xm1fj_8_2.0_20150414.json\n",
      "I:\\ddhfiles\\internal\\imagerysource\\Ingest\\KHM_w63uh1894sx9_8_2.0_20181221.json\n",
      "I:\\ddhfiles\\internal\\imagerysource\\Ingest\\KHM_w63u4dndhgh6_8_2.0_20190128.json\n",
      "I:\\ddhfiles\\internal\\imagerysource\\Ingest\\KHM_w63u5fqen3n2_1_0.5_20180408.json\n",
      "I:\\ddhfiles\\internal\\imagerysource\\Ingest\\KHM_w63u4bvfpvb1_8_2.0_20171128.json\n",
      "I:\\ddhfiles\\internal\\imagerysource\\Ingest\\KHM_w63u4bvfpvb1_1_0.5_20171128.json\n",
      "I:\\ddhfiles\\internal\\imagerysource\\Ingest\\KHM_w63uh1894sx9_1_0.5_20181221.json\n",
      "I:\\ddhfiles\\internal\\imagerysource\\Ingest\\KHM_w63gfv3xm1fj_1_0.5_20150414.json\n",
      "I:\\ddhfiles\\internal\\imagerysource\\Ingest\\KHM_w63u5fqen3n2_8_2.0_20180408.json\n",
      "I:\\ddhfiles\\internal\\imagerysource\\Ingest\\KHM_w63u4dndhgh6_1_0.5_20190128.json\n",
      "I:\\ddhfiles\\internal\\imagerysource\\Ingest\\KHM_w3cs7swtzn6u_1_0.5_20181203.json\n",
      "I:\\ddhfiles\\internal\\imagerysource\\Ingest\\KHM_w3cs7tyex1b1_8_2.0_20170531.json\n",
      "I:\\ddhfiles\\internal\\imagerysource\\Ingest\\KHM_w3cs7tw8ybrc_1_0.5_20190122.json\n",
      "I:\\ddhfiles\\internal\\imagerysource\\Ingest\\KHM_w3cs7wqxp51e_1_0.5_20160225.json\n",
      "I:\\ddhfiles\\internal\\imagerysource\\Ingest\\KHM_w3cs7tw9nfrv_8_2.0_20170914.json\n",
      "I:\\ddhfiles\\internal\\imagerysource\\Ingest\\KHM_w3cs7tw9nfrv_1_0.5_20170914.json\n",
      "I:\\ddhfiles\\internal\\imagerysource\\Ingest\\KHM_w3cs7tyex1b1_1_0.5_20170531.json\n",
      "I:\\ddhfiles\\internal\\imagerysource\\Ingest\\KHM_w3cs7swtzn6u_8_2.0_20181203.json\n",
      "I:\\ddhfiles\\internal\\imagerysource\\Ingest\\KHM_w3cs7wqxp51e_8_2.0_20160225.json\n",
      "I:\\ddhfiles\\internal\\imagerysource\\Ingest\\KHM_w3cs7tw8ybrc_8_2.0_20190122.json\n",
      "I:\\ddhfiles\\internal\\imagerysource\\Ingest\\PAK_tkrtmwp90m1y_4_1.0_20210509.json\n",
      "I:\\ddhfiles\\internal\\imagerysource\\Ingest\\GHA_ebzzgcj7bwmy_1_0.5_20191025.json\n",
      "I:\\ddhfiles\\internal\\imagerysource\\Ingest\\GHA_ecpb4ysbqzrs_1_0.5_20191128.json\n",
      "I:\\ddhfiles\\internal\\imagerysource\\Ingest\\GHA_ecpb4ysbqzrs_4_2.0_20191128.json\n",
      "I:\\ddhfiles\\internal\\imagerysource\\Ingest\\GHA_ebzzgcj7bwmy_4_2.0_20191025.json\n",
      "I:\\ddhfiles\\internal\\imagerysource\\Ingest\\STP_s0m1pthty8j4_4_0.5_20170115.json\n",
      "I:\\ddhfiles\\internal\\imagerysource\\Ingest\\STP_s0m31p11ke51_4_0.5_20170211.json\n",
      "I:\\ddhfiles\\internal\\imagerysource\\Ingest\\KHM_w63u47gz9p05_1_0.501_20170212.json\n",
      "I:\\ddhfiles\\internal\\imagerysource\\Ingest\\KHM_w63u47gzbcu7_4_2.004_20170212.json\n",
      "I:\\ddhfiles\\internal\\imagerysource\\Ingest\\BGD_wh0r8bky44dm_8_2.0_20181024.json\n",
      "I:\\ddhfiles\\internal\\imagerysource\\Ingest\\BGD_wh0qcr0cp548_8_2.0_20190201.json\n",
      "I:\\ddhfiles\\internal\\imagerysource\\Ingest\\BGD_wh0qcr0cp548_1_0.5_20190201.json\n",
      "I:\\ddhfiles\\internal\\imagerysource\\Ingest\\BGD_wh0r8bky44dm_1_0.5_20181024.json\n",
      "I:\\ddhfiles\\internal\\imagerysource\\Ingest\\BGD_wh0qfv6wkyt4_8_2.0_20151107.json\n",
      "I:\\ddhfiles\\internal\\imagerysource\\Ingest\\BGD_wh0qfv6wkyt4_1_0.5_20151107.json\n",
      "I:\\ddhfiles\\internal\\imagerysource\\Ingest\\IRQ_sypcq9kvr6ed_1_0.5_20170731.json\n",
      "I:\\ddhfiles\\internal\\imagerysource\\Ingest\\MLI_ef5m3960xy4y_1_0.5_20171001.json\n",
      "I:\\ddhfiles\\internal\\imagerysource\\Ingest\\MLI_ef5m3960xy4y_8_2.0_20171001.json\n",
      "I:\\ddhfiles\\internal\\imagerysource\\Ingest\\PAK_tkrtmshfvvs5_4_0.515_20210531.json\n",
      "I:\\ddhfiles\\internal\\imagerysource\\Ingest\\PAK_ts885egzu13q_4_0.515_20210424.json\n",
      "I:\\ddhfiles\\internal\\imagerysource\\Ingest\\PAK_ts89t7x8k4f6_4_0.515_20200411.json\n",
      "I:\\ddhfiles\\internal\\imagerysource\\Ingest\\PAK_tsbus3dexw82_4_0.515_20210410.json\n",
      "I:\\ddhfiles\\internal\\imagerysource\\Ingest\\PAK_tkrtkvs1nn9d_4_0.515_20210531.json\n",
      "I:\\ddhfiles\\internal\\imagerysource\\Ingest\\PAK_ts8tk9eeme9t_4_0.515_20210424.json\n",
      "I:\\ddhfiles\\internal\\imagerysource\\Ingest\\PAK_ts8863gvst5k_4_0.515_20210424.json\n",
      "I:\\ddhfiles\\internal\\imagerysource\\Ingest\\PAK_tkrv9mms61q4_4_0.515_20210429.json\n",
      "I:\\ddhfiles\\internal\\imagerysource\\Ingest\\PAK_tsb0n69uu1gc_4_0.515_20210308.json\n",
      "I:\\ddhfiles\\internal\\imagerysource\\Ingest\\PAK_tkry46x5c4q9_4_0.515_20210409.json\n",
      "I:\\ddhfiles\\internal\\imagerysource\\Ingest\\PAK_tsbvx6bvux1e_4_0.515_20210507.json\n"
     ]
    },
    {
     "name": "stderr",
     "output_type": "stream",
     "text": [
      "WARNING:root:Could not determine date for Ov_i02_L02_R00000172_C00000104.tif\n"
     ]
    },
    {
     "name": "stdout",
     "output_type": "stream",
     "text": [
      "I:\\ddhfiles\\internal\\imagerysource\\Ingest\\SYR_svcd59tt72nr_4_6.0_YYYYMMDD.json\n"
     ]
    },
    {
     "name": "stderr",
     "output_type": "stream",
     "text": [
      "WARNING:root:Could not determine date for Ov_i02_L02_R00000172_C00000104.tif\n"
     ]
    },
    {
     "name": "stdout",
     "output_type": "stream",
     "text": [
      "I:\\ddhfiles\\internal\\imagerysource\\Ingest\\SYR_svcd59tt72nr_4_6.0_YYYYMMDD.json\n",
      "I:\\ddhfiles\\internal\\imagerysource\\Ingest\\SYR_svccn0xpsmy6_1_2.008_YYYYMMDD.json\n",
      "I:\\ddhfiles\\internal\\imagerysource\\Ingest\\SYR_svccjfxkdv8v_3_6.025_YYYYMMDD.json\n"
     ]
    },
    {
     "name": "stderr",
     "output_type": "stream",
     "text": [
      "WARNING:root:Could not determine date for Ov_i02_L01_R000001BE_C0000030F.tif\n"
     ]
    },
    {
     "name": "stdout",
     "output_type": "stream",
     "text": [
      "I:\\ddhfiles\\internal\\imagerysource\\Ingest\\SYR_svcspk5wht7y_4_6.0_YYYYMMDD.json\n",
      "I:\\ddhfiles\\internal\\imagerysource\\Ingest\\SYR_svcspme1b3h0_3_1.993_YYYYMMDD.json\n",
      "I:\\ddhfiles\\internal\\imagerysource\\Ingest\\SYR_svccgj068bsd_3_6.025_YYYYMMDD.json\n",
      "I:\\ddhfiles\\internal\\imagerysource\\Ingest\\SYR_svccgj068bsd_3_6.025_YYYYMMDD.json\n"
     ]
    },
    {
     "name": "stderr",
     "output_type": "stream",
     "text": [
      "WARNING:root:Could not determine date for Ov_i02_L01_R000001BD_C0000030F.tif\n"
     ]
    },
    {
     "name": "stdout",
     "output_type": "stream",
     "text": [
      "I:\\ddhfiles\\internal\\imagerysource\\Ingest\\SYR_svcdw9dt640t_4_6.0_YYYYMMDD.json\n",
      "I:\\ddhfiles\\internal\\imagerysource\\Ingest\\SYR_svcdqpzefk79_3_2.008_YYYYMMDD.json\n",
      "I:\\ddhfiles\\internal\\imagerysource\\Ingest\\SYR_svcs5389teyy_4_6.335_YYYYMMDD.json\n"
     ]
    },
    {
     "name": "stderr",
     "output_type": "stream",
     "text": [
      "WARNING:root:Could not determine date for Ov_i02_L01_R000001BD_C0000030E.tif\n"
     ]
    },
    {
     "name": "stdout",
     "output_type": "stream",
     "text": [
      "I:\\ddhfiles\\internal\\imagerysource\\Ingest\\SYR_svcs53916h0f_4_6.0_YYYYMMDD.json\n",
      "I:\\ddhfiles\\internal\\imagerysource\\Ingest\\SYR_svcdq1ptdk7s_4_0.5_YYYYMMDD.json\n"
     ]
    },
    {
     "name": "stderr",
     "output_type": "stream",
     "text": [
      "WARNING:root:Could not determine date for Ov_i02_L01_R000001BC_C0000030F.tif\n"
     ]
    },
    {
     "name": "stdout",
     "output_type": "stream",
     "text": [
      "I:\\ddhfiles\\internal\\imagerysource\\Ingest\\SYR_svcdq4jstkpp_4_6.0_YYYYMMDD.json\n",
      "I:\\ddhfiles\\internal\\imagerysource\\Ingest\\SYR_svcdq4thnyfj_1_0.5_YYYYMMDD.json\n",
      "I:\\ddhfiles\\internal\\imagerysource\\Ingest\\SYR_svcdq1ptdk7s_3_6.025_YYYYMMDD.json\n"
     ]
    },
    {
     "name": "stderr",
     "output_type": "stream",
     "text": [
      "WARNING:root:Could not determine date for Ov_i02_L02_R000000B9_C00000082.tif\n"
     ]
    },
    {
     "name": "stdout",
     "output_type": "stream",
     "text": [
      "I:\\ddhfiles\\internal\\imagerysource\\Ingest\\SYR_svceh4n1ybb0_4_12.0_YYYYMMDD.json\n"
     ]
    },
    {
     "name": "stderr",
     "output_type": "stream",
     "text": [
      "WARNING:root:Could not determine date for Ov_i02_L02_R000000B9_C00000082.tif\n"
     ]
    },
    {
     "name": "stdout",
     "output_type": "stream",
     "text": [
      "I:\\ddhfiles\\internal\\imagerysource\\Ingest\\SYR_svceh4n1ybb0_4_12.0_YYYYMMDD.json\n"
     ]
    },
    {
     "name": "stderr",
     "output_type": "stream",
     "text": [
      "WARNING:root:Could not determine date for Ov_i03_L02_R00000094_C00000105.tif\n"
     ]
    },
    {
     "name": "stdout",
     "output_type": "stream",
     "text": [
      "I:\\ddhfiles\\internal\\imagerysource\\Ingest\\SYR_svcey4964he4_4_6.0_YYYYMMDD.json\n"
     ]
    },
    {
     "name": "stderr",
     "output_type": "stream",
     "text": [
      "WARNING:root:Could not determine date for Ov_i02_L01_R000001BD_C0000030F.tif\n"
     ]
    },
    {
     "name": "stdout",
     "output_type": "stream",
     "text": [
      "I:\\ddhfiles\\internal\\imagerysource\\Ingest\\SYR_svcey4964he4_4_6.0_YYYYMMDD.json\n",
      "I:\\ddhfiles\\internal\\imagerysource\\Ingest\\SYR_svcccm4d34pg_3_6.025_YYYYMMDD.json\n",
      "I:\\ddhfiles\\internal\\imagerysource\\Ingest\\SYR_svccck9r4rcq_1_5.98_YYYYMMDD.json\n",
      "I:\\ddhfiles\\internal\\imagerysource\\Ingest\\SYR_svcdpz7jsq15_3_0.5_YYYYMMDD.json\n",
      "I:\\ddhfiles\\internal\\imagerysource\\Ingest\\SYR_svcdpz7415wp_1_0.5_YYYYMMDD.json\n",
      "I:\\ddhfiles\\internal\\imagerysource\\Ingest\\SYR_svcc60vmpyuj_3_6.025_YYYYMMDD.json\n",
      "I:\\ddhfiles\\internal\\imagerysource\\Ingest\\SYR_svcc62vb6tx6_1_6.025_YYYYMMDD.json\n"
     ]
    },
    {
     "name": "stderr",
     "output_type": "stream",
     "text": [
      "C:\\WBG\\Anaconda\\envs\\geography\\lib\\site-packages\\geopandas\\geodataframe.py:853: SettingWithCopyWarning: \n",
      "A value is trying to be set on a copy of a slice from a DataFrame.\n",
      "Try using .loc[row_indexer,col_indexer] = value instead\n",
      "\n",
      "See the caveats in the documentation: https://pandas.pydata.org/pandas-docs/stable/user_guide/indexing.html#returning-a-view-versus-a-copy\n",
      "  super(GeoDataFrame, self).__setitem__(key, value)\n"
     ]
    },
    {
     "name": "stdout",
     "output_type": "stream",
     "text": [
      "I:\\ddhfiles\\internal\\imagerysource\\Ingest\\SYR_svc9tc8sb8xw_3_0.5_YYYYMMDD.json\n"
     ]
    },
    {
     "name": "stderr",
     "output_type": "stream",
     "text": [
      "WARNING:root:Could not determine date for Ov_i02_L02_R00000171_C00000104.tif\n"
     ]
    },
    {
     "name": "stdout",
     "output_type": "stream",
     "text": [
      "I:\\ddhfiles\\internal\\imagerysource\\Ingest\\SYR_svc9td0mwwuk_1_0.5_YYYYMMDD.json\n"
     ]
    },
    {
     "name": "stderr",
     "output_type": "stream",
     "text": [
      "C:\\WBG\\Anaconda\\envs\\geography\\lib\\site-packages\\geopandas\\geodataframe.py:853: SettingWithCopyWarning: \n",
      "A value is trying to be set on a copy of a slice from a DataFrame.\n",
      "Try using .loc[row_indexer,col_indexer] = value instead\n",
      "\n",
      "See the caveats in the documentation: https://pandas.pydata.org/pandas-docs/stable/user_guide/indexing.html#returning-a-view-versus-a-copy\n",
      "  super(GeoDataFrame, self).__setitem__(key, value)\n"
     ]
    },
    {
     "name": "stdout",
     "output_type": "stream",
     "text": [
      "I:\\ddhfiles\\internal\\imagerysource\\Ingest\\SYR_svc9tcd78vfc_3_6.025_YYYYMMDD.json\n",
      "I:\\ddhfiles\\internal\\imagerysource\\Ingest\\SYR_svcfg0ecg1fh_3_0.5_YYYYMMDD.json\n",
      "I:\\ddhfiles\\internal\\imagerysource\\Ingest\\SYR_svcfffn2vrwp_1_0.5_YYYYMMDD.json\n",
      "I:\\ddhfiles\\internal\\imagerysource\\Ingest\\SYR_svcfg60xgsfx_1_2.008_YYYYMMDD.json\n",
      "I:\\ddhfiles\\internal\\imagerysource\\Ingest\\SYR_svcfepbk8y8h_3_6.025_YYYYMMDD.json\n",
      "I:\\ddhfiles\\internal\\imagerysource\\Ingest\\SYR_svcfbtz1783n_3_0.5_YYYYMMDD.json\n",
      "I:\\ddhfiles\\internal\\imagerysource\\Ingest\\SYR_svcfbtz0527q_1_0.5_YYYYMMDD.json\n",
      "I:\\ddhfiles\\internal\\imagerysource\\Ingest\\SYR_svccen278bhx_3_6.025_YYYYMMDD.json\n",
      "I:\\ddhfiles\\internal\\imagerysource\\Ingest\\SYR_svcceq0wewxp_1_6.025_YYYYMMDD.json\n",
      "I:\\ddhfiles\\internal\\imagerysource\\Ingest\\SYR_svcube0887db_3_5.999_YYYYMMDD.json\n",
      "I:\\ddhfiles\\internal\\imagerysource\\Ingest\\SYR_svcub3msvgxz_3_5.98_YYYYMMDD.json\n",
      "I:\\ddhfiles\\internal\\imagerysource\\Ingest\\SYR_svcf64t2pzuj_3_6.025_YYYYMMDD.json\n"
     ]
    },
    {
     "name": "stderr",
     "output_type": "stream",
     "text": [
      "WARNING:root:Could not determine date for Ov_i02_L01_R000001BD_C0000030E.tif\n"
     ]
    },
    {
     "name": "stdout",
     "output_type": "stream",
     "text": [
      "I:\\ddhfiles\\internal\\imagerysource\\Ingest\\SYR_svcs53916h0f_4_6.0_YYYYMMDD.json\n"
     ]
    },
    {
     "name": "stderr",
     "output_type": "stream",
     "text": [
      "WARNING:root:Could not determine date for Ov_i02_L02_R00000172_C00000104.tif\n"
     ]
    },
    {
     "name": "stdout",
     "output_type": "stream",
     "text": [
      "I:\\ddhfiles\\internal\\imagerysource\\Ingest\\SYR_svcest64nqbk_4_6.0_YYYYMMDD.json\n"
     ]
    },
    {
     "name": "stderr",
     "output_type": "stream",
     "text": [
      "WARNING:root:Could not determine date for Ov_i02_L02_R00000172_C00000104.tif\n"
     ]
    },
    {
     "name": "stdout",
     "output_type": "stream",
     "text": [
      "I:\\ddhfiles\\internal\\imagerysource\\Ingest\\SYR_svcest64nqbk_4_6.0_YYYYMMDD.json\n"
     ]
    },
    {
     "name": "stderr",
     "output_type": "stream",
     "text": [
      "WARNING:root:Could not determine date for Ov_i02_L02_R00000172_C00000105.tif\n"
     ]
    },
    {
     "name": "stdout",
     "output_type": "stream",
     "text": [
      "I:\\ddhfiles\\internal\\imagerysource\\Ingest\\SYR_svcsmsw4xbpq_4_6.0_YYYYMMDD.json\n"
     ]
    },
    {
     "name": "stderr",
     "output_type": "stream",
     "text": [
      "WARNING:root:Could not determine date for Ov_i02_L02_R00000172_C00000105.tif\n"
     ]
    },
    {
     "name": "stdout",
     "output_type": "stream",
     "text": [
      "I:\\ddhfiles\\internal\\imagerysource\\Ingest\\SYR_svcsmsw4xbpq_4_6.0_YYYYMMDD.json\n",
      "I:\\ddhfiles\\internal\\imagerysource\\Ingest\\ZWE_ksy1nysmyft0_3_0.5_YYYYMMDD.json\n",
      "I:\\ddhfiles\\internal\\imagerysource\\Ingest\\KAZ_txwwx649tnp8_1_0.5_20180804.json\n",
      "I:\\ddhfiles\\internal\\imagerysource\\Ingest\\KAZ_txwwjypbwh27_4_2.0_20181025.json\n",
      "I:\\ddhfiles\\internal\\imagerysource\\Ingest\\KAZ_txwwnk8zmq72_4_2.0_20160525.json\n",
      "I:\\ddhfiles\\internal\\imagerysource\\Ingest\\KAZ_txwwq9ku8uve_4_2.0_20121208.json\n",
      "I:\\ddhfiles\\internal\\imagerysource\\Ingest\\KAZ_txwwjypbwh27_1_0.5_20181025.json\n",
      "I:\\ddhfiles\\internal\\imagerysource\\Ingest\\KAZ_txwwnk8zmq72_1_0.5_20160525.json\n",
      "I:\\ddhfiles\\internal\\imagerysource\\Ingest\\KAZ_txwwx649tnp8_4_2.0_20180804.json\n",
      "I:\\ddhfiles\\internal\\imagerysource\\Ingest\\KAZ_txwwq9ku8uve_1_0.5_20121208.json\n",
      "I:\\ddhfiles\\internal\\imagerysource\\Ingest\\NER_s5nk54z25jh1_4_0.5_20171224.json\n",
      "I:\\ddhfiles\\internal\\imagerysource\\Ingest\\NER_s5j8jsbe3nd4_4_0.5_20180512.json\n"
     ]
    },
    {
     "name": "stderr",
     "output_type": "stream",
     "text": [
      "C:\\WBG\\Anaconda\\envs\\geography\\lib\\site-packages\\geopandas\\geodataframe.py:853: SettingWithCopyWarning: \n",
      "A value is trying to be set on a copy of a slice from a DataFrame.\n",
      "Try using .loc[row_indexer,col_indexer] = value instead\n",
      "\n",
      "See the caveats in the documentation: https://pandas.pydata.org/pandas-docs/stable/user_guide/indexing.html#returning-a-view-versus-a-copy\n",
      "  super(GeoDataFrame, self).__setitem__(key, value)\n"
     ]
    },
    {
     "name": "stdout",
     "output_type": "stream",
     "text": [
      "I:\\ddhfiles\\internal\\imagerysource\\Ingest\\NER_s42cmh0dbyfz_4_0.5_20160408.json\n",
      "I:\\ddhfiles\\internal\\imagerysource\\Ingest\\NER_s5ng0fjw3y1d_4_0.5_20191226.json\n",
      "I:\\ddhfiles\\internal\\imagerysource\\Ingest\\NER_s43ju9sgk1cz_4_0.5_20200817.json\n",
      "I:\\ddhfiles\\internal\\imagerysource\\Ingest\\NER_s43j7mqp9yzy_4_0.5_20200817.json\n",
      "I:\\ddhfiles\\internal\\imagerysource\\Ingest\\NER_s78rzce9xxw1_4_0.5_PHR.json\n",
      "I:\\ddhfiles\\internal\\imagerysource\\Ingest\\NER_s43jd50kskm8_4_0.5_20200817.json\n",
      "I:\\ddhfiles\\internal\\imagerysource\\Ingest\\NER_s5ng3477ehr8_4_0.5_20190505.json\n",
      "I:\\ddhfiles\\internal\\imagerysource\\Ingest\\NER_s43hhq6qgpgj_4_0.5_20140504.json\n",
      "I:\\ddhfiles\\internal\\imagerysource\\Ingest\\NER_s43j7mw11px8_4_0.5_20170421.json\n",
      "I:\\ddhfiles\\internal\\imagerysource\\Ingest\\NER_s5m3bxqp8pr7_4_0.5_20160129.json\n",
      "I:\\ddhfiles\\internal\\imagerysource\\Ingest\\NER_s5nexj0fcmme_4_0.5_20161122.json\n",
      "I:\\ddhfiles\\internal\\imagerysource\\Ingest\\NER_s5ng347mmn7u_4_0.5_20151228.json\n",
      "I:\\ddhfiles\\internal\\imagerysource\\Ingest\\NER_s43hhq6qgpgj_4_0.5_20170421.json\n"
     ]
    },
    {
     "name": "stderr",
     "output_type": "stream",
     "text": [
      "C:\\WBG\\Anaconda\\envs\\geography\\lib\\site-packages\\geopandas\\geodataframe.py:853: SettingWithCopyWarning: \n",
      "A value is trying to be set on a copy of a slice from a DataFrame.\n",
      "Try using .loc[row_indexer,col_indexer] = value instead\n",
      "\n",
      "See the caveats in the documentation: https://pandas.pydata.org/pandas-docs/stable/user_guide/indexing.html#returning-a-view-versus-a-copy\n",
      "  super(GeoDataFrame, self).__setitem__(key, value)\n"
     ]
    },
    {
     "name": "stdout",
     "output_type": "stream",
     "text": [
      "I:\\ddhfiles\\internal\\imagerysource\\Ingest\\NER_s42uhs2dfv0c_4_0.5_20140504.json\n",
      "I:\\ddhfiles\\internal\\imagerysource\\Ingest\\NER_s5j9kz4es0hw_4_0.5_20160102.json\n",
      "I:\\ddhfiles\\internal\\imagerysource\\Ingest\\NER_s5m3bxqp8pr7_4_0.5_20180228.json\n",
      "I:\\ddhfiles\\internal\\imagerysource\\Ingest\\NER_s5y4xn4376ug_4_0.5_20111022.json\n"
     ]
    },
    {
     "name": "stderr",
     "output_type": "stream",
     "text": [
      "C:\\WBG\\Anaconda\\envs\\geography\\lib\\site-packages\\geopandas\\geodataframe.py:853: SettingWithCopyWarning: \n",
      "A value is trying to be set on a copy of a slice from a DataFrame.\n",
      "Try using .loc[row_indexer,col_indexer] = value instead\n",
      "\n",
      "See the caveats in the documentation: https://pandas.pydata.org/pandas-docs/stable/user_guide/indexing.html#returning-a-view-versus-a-copy\n",
      "  super(GeoDataFrame, self).__setitem__(key, value)\n"
     ]
    },
    {
     "name": "stdout",
     "output_type": "stream",
     "text": [
      "I:\\ddhfiles\\internal\\imagerysource\\Ingest\\NER_s42cmh06gb48_4_0.5_20120407.json\n",
      "I:\\ddhfiles\\internal\\imagerysource\\Ingest\\NER_s48b0ngn9c1y_4_0.5_20190211.json\n"
     ]
    },
    {
     "name": "stderr",
     "output_type": "stream",
     "text": [
      "C:\\WBG\\Anaconda\\envs\\geography\\lib\\site-packages\\geopandas\\geodataframe.py:853: SettingWithCopyWarning: \n",
      "A value is trying to be set on a copy of a slice from a DataFrame.\n",
      "Try using .loc[row_indexer,col_indexer] = value instead\n",
      "\n",
      "See the caveats in the documentation: https://pandas.pydata.org/pandas-docs/stable/user_guide/indexing.html#returning-a-view-versus-a-copy\n",
      "  super(GeoDataFrame, self).__setitem__(key, value)\n"
     ]
    },
    {
     "name": "stdout",
     "output_type": "stream",
     "text": [
      "I:\\ddhfiles\\internal\\imagerysource\\Ingest\\NER_s42cmh06gb48_4_0.5_20190523.json\n",
      "I:\\ddhfiles\\internal\\imagerysource\\Ingest\\NER_s4885pfgy2hv_4_0.5_20121225.json\n",
      "I:\\ddhfiles\\internal\\imagerysource\\Ingest\\NER_s5y7y1169v6h_4_0.5_20190209.json\n"
     ]
    },
    {
     "name": "stderr",
     "output_type": "stream",
     "text": [
      "C:\\WBG\\Anaconda\\envs\\geography\\lib\\site-packages\\geopandas\\geodataframe.py:853: SettingWithCopyWarning: \n",
      "A value is trying to be set on a copy of a slice from a DataFrame.\n",
      "Try using .loc[row_indexer,col_indexer] = value instead\n",
      "\n",
      "See the caveats in the documentation: https://pandas.pydata.org/pandas-docs/stable/user_guide/indexing.html#returning-a-view-versus-a-copy\n",
      "  super(GeoDataFrame, self).__setitem__(key, value)\n"
     ]
    },
    {
     "name": "stdout",
     "output_type": "stream",
     "text": [
      "I:\\ddhfiles\\internal\\imagerysource\\Ingest\\NER_s42uhs2dfv0c_4_0.5_20190523.json\n",
      "I:\\ddhfiles\\internal\\imagerysource\\Ingest\\NER_s5nk54z0w9tv_4_0.5_20190929.json\n",
      "I:\\ddhfiles\\internal\\imagerysource\\Ingest\\NER_s5y4xn4376ug_4_0.5_20151230.json\n",
      "I:\\ddhfiles\\internal\\imagerysource\\Ingest\\NER_s4885pfgy2hv_4_0.5_20190126.json\n",
      "I:\\ddhfiles\\internal\\imagerysource\\Ingest\\NER_s5y7y1169v6h_4_0.5_20160428.json\n",
      "I:\\ddhfiles\\internal\\imagerysource\\Ingest\\NER_s43892mmhtxs_4_0.5_20171103.json\n",
      "I:\\ddhfiles\\internal\\imagerysource\\Ingest\\NER_s5y7y1169v6h_4_0.5_20130321.json\n"
     ]
    },
    {
     "name": "stderr",
     "output_type": "stream",
     "text": [
      "C:\\WBG\\Anaconda\\envs\\geography\\lib\\site-packages\\geopandas\\geodataframe.py:853: SettingWithCopyWarning: \n",
      "A value is trying to be set on a copy of a slice from a DataFrame.\n",
      "Try using .loc[row_indexer,col_indexer] = value instead\n",
      "\n",
      "See the caveats in the documentation: https://pandas.pydata.org/pandas-docs/stable/user_guide/indexing.html#returning-a-view-versus-a-copy\n",
      "  super(GeoDataFrame, self).__setitem__(key, value)\n"
     ]
    },
    {
     "name": "stdout",
     "output_type": "stream",
     "text": [
      "I:\\ddhfiles\\internal\\imagerysource\\Ingest\\NER_s42uhs2dfv0c_4_0.5_20160429.json\n",
      "I:\\ddhfiles\\internal\\imagerysource\\Ingest\\NER_s43892mmhtxs_4_0.5_20141223.json\n",
      "I:\\ddhfiles\\internal\\imagerysource\\Ingest\\NER_s43892mm4f8h_4_0.5_20181002.json\n",
      "I:\\ddhfiles\\internal\\imagerysource\\Ingest\\NER_s5y4xn4376ug_4_0.5_20181220.json\n",
      "I:\\ddhfiles\\internal\\imagerysource\\Ingest\\NER_s43j7mw11pqg_4_0.6_20111125.json\n",
      "I:\\ddhfiles\\internal\\imagerysource\\Ingest\\NER_s5nexj0g9837_4_0.5_20191207.json\n",
      "I:\\ddhfiles\\internal\\imagerysource\\Ingest\\NER_s43ju9fcztg4_4_0.5_20170421.json\n",
      "I:\\ddhfiles\\internal\\imagerysource\\Ingest\\NER_s5j9kz4es0hw_4_0.5_20171223.json\n",
      "I:\\ddhfiles\\internal\\imagerysource\\Ingest\\NER_s48b15xn495d_4_0.5_20160413.json\n",
      "I:\\ddhfiles\\internal\\imagerysource\\Ingest\\NER_s42xppn1t05t_4_0.5_20160329.json\n",
      "I:\\ddhfiles\\internal\\imagerysource\\Ingest\\NER_s43ju9fcztg4_4_0.5_20111125.json\n",
      "I:\\ddhfiles\\internal\\imagerysource\\Ingest\\NER_s5j9kz4s4h76_4_0.5_20191216.json\n",
      "I:\\ddhfiles\\internal\\imagerysource\\Ingest\\NER_s5ng0ft9g7kv_4_0.5_20151228.json\n",
      "I:\\ddhfiles\\internal\\imagerysource\\Ingest\\NER_s48b15wvp7cd_4_0.5_20190211.json\n",
      "I:\\ddhfiles\\internal\\imagerysource\\Ingest\\NER_s43j9g9f0gye_4_0.5_20111125.json\n",
      "I:\\ddhfiles\\internal\\imagerysource\\Ingest\\NER_s43nhgrdn4bg_4_0.5_20140504.json\n",
      "I:\\ddhfiles\\internal\\imagerysource\\Ingest\\NER_s43nhgr9p5mc_4_0.5_20170421.json\n",
      "I:\\ddhfiles\\internal\\imagerysource\\Ingest\\NER_s42xppn1t05t_4_0.5_20190211.json\n",
      "I:\\ddhfiles\\internal\\imagerysource\\Ingest\\NER_s5nexj0fcmme_4_0.5_20180420.json\n",
      "I:\\ddhfiles\\internal\\imagerysource\\Ingest\\NER_s48b0ngn16c5_4_0.5_20140616.json\n",
      "I:\\ddhfiles\\internal\\imagerysource\\Ingest\\NER_s48b0ngn16c5_4_0.5_20111222.json\n",
      "I:\\ddhfiles\\internal\\imagerysource\\Ingest\\NER_s48b15xn495d_4_0.5_20111222.json\n",
      "I:\\ddhfiles\\internal\\imagerysource\\Ingest\\NER_s43nhgrdn4bg_4_0.6_20051122.json\n",
      "I:\\ddhfiles\\internal\\imagerysource\\Ingest\\NER_s5j8jsb6v6nz_4_0.5_20200430.json\n",
      "I:\\ddhfiles\\internal\\imagerysource\\Ingest\\NER_s5m3bxmzzvnr_4_0.5_20191026.json\n",
      "I:\\ddhfiles\\internal\\imagerysource\\Ingest\\NER_s43j9g9f0gye_4_0.5_20160423.json\n",
      "I:\\ddhfiles\\internal\\imagerysource\\Ingest\\NER_s5nk54z25jh1_4_0.5_20180118.json\n",
      "I:\\ddhfiles\\internal\\imagerysource\\Ingest\\NER_s5j8jsb6v6nz_4_0.5_20171123.json\n",
      "I:\\ddhfiles\\internal\\imagerysource\\Ingest\\NER_s42xppn1t05t_4_0.5_20140504.json\n",
      "I:\\ddhfiles\\internal\\imagerysource\\Ingest\\PAN_d1x6uxwh8x9n_1_0.5_20091226.json\n",
      "I:\\ddhfiles\\internal\\imagerysource\\Ingest\\PAN_d1x6uxwhb87c_4_2.0_20091226.json\n",
      "I:\\ddhfiles\\internal\\imagerysource\\Ingest\\PAN_d1x7pjtt70u5_4_2.0_20091226.json\n",
      "I:\\ddhfiles\\internal\\imagerysource\\Ingest\\PAN_d1x7pjtt715s_1_0.5_20091226.json\n",
      "I:\\ddhfiles\\internal\\imagerysource\\Ingest\\PAN_d1x75zd2nh1p_1_0.5_20091226.json\n",
      "I:\\ddhfiles\\internal\\imagerysource\\Ingest\\PAN_d1t24nmwwq2v_4_1.5_20150503.json\n",
      "I:\\ddhfiles\\internal\\imagerysource\\Ingest\\UZB_trp99uf20jmr_1_0.5_20190828.json\n",
      "I:\\ddhfiles\\internal\\imagerysource\\Ingest\\UZB_trp99uf20jmr_8_2.0_20190828.json\n",
      "I:\\ddhfiles\\internal\\imagerysource\\Ingest\\UZB_trp9s03qxwv6_8_2.0_20191017.json\n",
      "I:\\ddhfiles\\internal\\imagerysource\\Ingest\\UZB_trp9s03qxwv6_1_0.5_20191017.json\n",
      "I:\\ddhfiles\\internal\\imagerysource\\Ingest\\PAK_tkrvcjwqq0fg_4_2.0_20210723.json\n",
      "I:\\ddhfiles\\internal\\imagerysource\\Ingest\\PAK_tkrvcjwqq0fg_1_0.5_20210723.json\n",
      "I:\\ddhfiles\\internal\\imagerysource\\Ingest\\PAK_tsb0rb45kxqe_4_2.0_20210502.json\n",
      "I:\\ddhfiles\\internal\\imagerysource\\Ingest\\PAK_tsb0rb45kxn5_1_0.5_20210502.json\n",
      "I:\\ddhfiles\\internal\\imagerysource\\Ingest\\PAK_tsb26rr5gtrt_1_0.5_20210421.json\n",
      "I:\\ddhfiles\\internal\\imagerysource\\Ingest\\PAK_tsb2thv27r8y_4_2.0_20210604.json\n",
      "I:\\ddhfiles\\internal\\imagerysource\\Ingest\\PAK_tsb26rr5gtz5_4_2.0_20210421.json\n",
      "I:\\ddhfiles\\internal\\imagerysource\\Ingest\\PAK_tsb2thv27r9g_1_0.5_20210604.json\n",
      "I:\\ddhfiles\\internal\\imagerysource\\Ingest\\PAK_ts27vr98fb8k_4_2.0_20210723.json\n",
      "I:\\ddhfiles\\internal\\imagerysource\\Ingest\\PAK_ts27vr98fb8k_1_0.5_20210723.json\n",
      "I:\\ddhfiles\\internal\\imagerysource\\Ingest\\PAK_ts89qvedezb1_4_0.5_20210808.json\n",
      "I:\\ddhfiles\\internal\\imagerysource\\Ingest\\PAK_ts8bcy7kf18j_4_0.5_20210808.json\n",
      "I:\\ddhfiles\\internal\\imagerysource\\Ingest\\PAK_tsb26rr5gszh_4_0.5_20210421.json\n",
      "I:\\ddhfiles\\internal\\imagerysource\\Ingest\\PAK_tsb2thv27r41_4_0.5_20210604.json\n",
      "I:\\ddhfiles\\internal\\imagerysource\\Ingest\\PAK_tsb0rb45kw6n_4_0.5_20210502.json\n",
      "I:\\ddhfiles\\internal\\imagerysource\\Ingest\\PAK_ts27vr98dzb3_4_0.5_20210723.json\n",
      "I:\\ddhfiles\\internal\\imagerysource\\Ingest\\PAK_tkrvcn76ftm5_4_0.5_20210723.json\n",
      "I:\\ddhfiles\\internal\\imagerysource\\Ingest\\PAK_tsbexv8w83t1_4_0.5_20210808.json\n",
      "I:\\ddhfiles\\internal\\imagerysource\\Ingest\\NIC_d46de0bgp7v2_4_1.5_20141207.json\n",
      "I:\\ddhfiles\\internal\\imagerysource\\Ingest\\GTM_9fx7q3bdz5x6_4_1.5_20150312.json\n",
      "I:\\ddhfiles\\internal\\imagerysource\\Ingest\\SLV_d42rg4rgddse_4_1.5_20150222.json\n",
      "I:\\ddhfiles\\internal\\imagerysource\\Ingest\\NIC_d44pf1cxpsnr_4_1.5_20131125.json\n",
      "I:\\ddhfiles\\internal\\imagerysource\\Ingest\\CRI_d1smpz3zvcs3_4_1.5_20141223.json\n",
      "I:\\ddhfiles\\internal\\imagerysource\\Ingest\\SLV_d43kddb2hjp0_4_1.5_20141130.json\n",
      "I:\\ddhfiles\\internal\\imagerysource\\Ingest\\HND_d4c2n3g0674k_4_1.5_20130310.json\n",
      "I:\\ddhfiles\\internal\\imagerysource\\Ingest\\CRI_d1ubtn8mqbx9_4_1.5_20150131.json\n",
      "I:\\ddhfiles\\internal\\imagerysource\\Ingest\\HND_d4f39hd5hwcb_4_1.5_20141111.json\n",
      "I:\\ddhfiles\\internal\\imagerysource\\Ingest\\ETH_scee1dnfsfye_1_0.5_20190315.json\n",
      "I:\\ddhfiles\\internal\\imagerysource\\Ingest\\ETH_scee4cwkfsee_8_2.0_20190315.json\n",
      "I:\\ddhfiles\\internal\\imagerysource\\Ingest\\ETH_scee1dnfsfrh_8_2.0_20190315.json\n",
      "I:\\ddhfiles\\internal\\imagerysource\\Ingest\\ETH_scee4cwkfs51_1_0.5_20190315.json\n",
      "I:\\ddhfiles\\internal\\imagerysource\\Ingest\\COD_kxedf6rdy53f_4_0.5_20120404.json\n",
      "I:\\ddhfiles\\internal\\imagerysource\\Ingest\\COD_kw528mubfnqh_4_2.0_20190727.json\n",
      "I:\\ddhfiles\\internal\\imagerysource\\Ingest\\COD_kw529jyc40ng_1_0.5_20190807.json\n",
      "I:\\ddhfiles\\internal\\imagerysource\\Ingest\\COD_kw528mubfnqh_1_0.5_20190727.json\n",
      "I:\\ddhfiles\\internal\\imagerysource\\Ingest\\COD_kw528mubfnqh_1_0.5_20190807.json\n",
      "I:\\ddhfiles\\internal\\imagerysource\\Ingest\\COD_kw529jyc40ng_4_2.0_20190807.json\n",
      "I:\\ddhfiles\\internal\\imagerysource\\Ingest\\COD_kw528mubfnqh_4_2.0_20190807.json\n",
      "I:\\ddhfiles\\internal\\imagerysource\\Ingest\\COD_kw528mubfnqh_8_2.0_20190824.json\n",
      "I:\\ddhfiles\\internal\\imagerysource\\Ingest\\COD_kw528mubfnqh_1_0.5_20190824.json\n"
     ]
    },
    {
     "name": "stderr",
     "output_type": "stream",
     "text": [
      "C:\\WBG\\Anaconda\\envs\\geography\\lib\\site-packages\\geopandas\\geodataframe.py:853: SettingWithCopyWarning: \n",
      "A value is trying to be set on a copy of a slice from a DataFrame.\n",
      "Try using .loc[row_indexer,col_indexer] = value instead\n",
      "\n",
      "See the caveats in the documentation: https://pandas.pydata.org/pandas-docs/stable/user_guide/indexing.html#returning-a-view-versus-a-copy\n",
      "  super(GeoDataFrame, self).__setitem__(key, value)\n"
     ]
    },
    {
     "name": "stdout",
     "output_type": "stream",
     "text": [
      "I:\\ddhfiles\\internal\\imagerysource\\Ingest\\COD_kr4yfwgyh663_4_0.5_20140403.json\n",
      "I:\\ddhfiles\\internal\\imagerysource\\Ingest\\COD_kr4yvnnxt86m_4_0.5_20140403.json\n"
     ]
    },
    {
     "name": "stderr",
     "output_type": "stream",
     "text": [
      "C:\\WBG\\Anaconda\\envs\\geography\\lib\\site-packages\\geopandas\\geodataframe.py:853: SettingWithCopyWarning: \n",
      "A value is trying to be set on a copy of a slice from a DataFrame.\n",
      "Try using .loc[row_indexer,col_indexer] = value instead\n",
      "\n",
      "See the caveats in the documentation: https://pandas.pydata.org/pandas-docs/stable/user_guide/indexing.html#returning-a-view-versus-a-copy\n",
      "  super(GeoDataFrame, self).__setitem__(key, value)\n"
     ]
    },
    {
     "name": "stdout",
     "output_type": "stream",
     "text": [
      "I:\\ddhfiles\\internal\\imagerysource\\Ingest\\COD_kr4yc9jm1r8j_4_0.5_20150801.json\n",
      "I:\\ddhfiles\\internal\\imagerysource\\Ingest\\COD_kr5nbpypkj1j_4_0.5_20140403.json\n",
      "I:\\ddhfiles\\internal\\imagerysource\\Ingest\\COD_kx6rjxs5rngt_4_0.3_20150117.json\n",
      "I:\\ddhfiles\\internal\\imagerysource\\Ingest\\ARG_69ydd4c9vb8f_4_0.5_20200929.json\n",
      "I:\\ddhfiles\\internal\\imagerysource\\Ingest\\ARG_69y6h8kpurwc_4_0.5_20200921.json\n",
      "I:\\ddhfiles\\internal\\imagerysource\\Ingest\\ARG_69yd1wrm7fm0_4_0.5_20200929.json\n",
      "I:\\ddhfiles\\internal\\imagerysource\\Ingest\\ARG_69y7fu77csgn_4_0.5_20201012.json\n",
      "I:\\ddhfiles\\internal\\imagerysource\\Ingest\\IDN_qxv4zhpwjkv4_8_3.0_YYYYMMDD.json\n",
      "I:\\ddhfiles\\internal\\imagerysource\\Ingest\\IDN_qxv703027r31_8_3.0_YYYYMMDD.json\n",
      "I:\\ddhfiles\\internal\\imagerysource\\Ingest\\IDN_qxv70kyu5pxt_8_3.0_YYYYMMDD.json\n",
      "I:\\ddhfiles\\internal\\imagerysource\\Ingest\\IDN_qxvnyeznsdd5_8_3.0_YYYYMMDD.json\n",
      "I:\\ddhfiles\\internal\\imagerysource\\Ingest\\IDN_qxv722w411j5_8_3.0_YYYYMMDD.json\n",
      "I:\\ddhfiles\\internal\\imagerysource\\Ingest\\IDN_qxv63ke3y3mv_8_3.0_YYYYMMDD.json\n",
      "I:\\ddhfiles\\internal\\imagerysource\\Ingest\\IDN_qxv699g4369c_8_3.0_YYYYMMDD.json\n",
      "I:\\ddhfiles\\internal\\imagerysource\\Ingest\\IDN_qxv5uw7rb9vh_8_3.0_YYYYMMDD.json\n",
      "I:\\ddhfiles\\internal\\imagerysource\\Ingest\\IDN_qrzwbevywwvb_8_3.0_YYYYMMDD.json\n",
      "I:\\ddhfiles\\internal\\imagerysource\\Ingest\\IDN_qxv70r8nc0r6_8_3.0_YYYYMMDD.json\n",
      "I:\\ddhfiles\\internal\\imagerysource\\Ingest\\IDN_qxv4yfszk076_8_3.0_YYYYMMDD.json\n",
      "I:\\ddhfiles\\internal\\imagerysource\\Ingest\\IDN_qxv23fvsnqqv_8_3.0_YYYYMMDD.json\n",
      "I:\\ddhfiles\\internal\\imagerysource\\Ingest\\IDN_qxv7059kvxbu_8_3.0_YYYYMMDD.json\n",
      "I:\\ddhfiles\\internal\\imagerysource\\Ingest\\IDN_qxv32gmhqze5_8_3.0_YYYYMMDD.json\n",
      "I:\\ddhfiles\\internal\\imagerysource\\Ingest\\IDN_qqguwuzyf2dz_4_0.5_20200825.json\n"
     ]
    }
   ],
   "source": [
    "# Processing new folder of imagery\n",
    "importlib.reload(imageryExtents)\n",
    "\n",
    "badData = []\n",
    "errorData = []\n",
    "newFolders = []\n",
    "processedFolders = []\n",
    "\n",
    "for inFolder in imgFolders:\n",
    "    try:\n",
    "        imgObj = imageryExtents.deliveredImageryFolder(inFolder, outFolder, globalBoundaries, \"\") \n",
    "        #Check if this imgObj has already been processed\n",
    "        processedFile      = os.path.join(processedFolder, os.path.basename(imgObj.jsonFile))\n",
    "        processedErrorFile = os.path.join(processedErrorFolder, os.path.basename(imgObj.jsonFile))\n",
    "        if (not os.path.exists(imgObj.jsonFile)) and (not imgObj.jsonFile in processed_files):\n",
    "            metaData = imgObj.getMetadata()\n",
    "            print(imgObj.jsonFile)\n",
    "            if imgObj.valid_metadata(metaData):\n",
    "                thumbnail = imgObj.generateThumbnails()\n",
    "                zipFile = imgObj.zipData()\n",
    "                imgJSON = imgObj.createJSON(pNumber=\"NA\", securityClassification=\"Official Use Only\")\n",
    "            else:\n",
    "                badData.append(metaData)\n",
    "            newFolders.append(inFolder)            \n",
    "        else:\n",
    "            processedFolders.append(inFolder)\n",
    "    except:\n",
    "        errorData.append(inFolder)    "
   ]
  },
  {
   "cell_type": "code",
   "execution_count": null,
   "metadata": {},
   "outputs": [],
   "source": [
    "print(len(imgFolders))\n",
    "print(len(badData))\n",
    "print(len(errorData))\n",
    "print(len(newFolders))\n",
    "print(len(processedFolders))"
   ]
  },
  {
   "cell_type": "markdown",
   "metadata": {},
   "source": [
    "# Log processed data"
   ]
  },
  {
   "cell_type": "code",
   "execution_count": null,
   "metadata": {},
   "outputs": [],
   "source": [
    "for file in [processed_file, bad_meta_file, error_file]:\n",
    "    if os.path.exists(file):\n",
    "        shutil.copy(file, file.replace(\".txt\", \"_%s.txt\" % datetime.date.today().strftime(\"%Y%m%d\")))"
   ]
  },
  {
   "cell_type": "code",
   "execution_count": null,
   "metadata": {},
   "outputs": [],
   "source": [
    "with open(processed_file, 'w') as out_file:\n",
    "    for folder in processedFolders:\n",
    "        out_file.write(f\"{folder}\\n\")\n",
    "        \n",
    "with open(error_file, 'w') as out_file:\n",
    "    for folder in errorData:\n",
    "        out_file.write(f\"{folder}\\n\")"
   ]
  },
  {
   "cell_type": "code",
   "execution_count": null,
   "metadata": {},
   "outputs": [],
   "source": [
    "try:\n",
    "    del badFinal\n",
    "except:\n",
    "    pass\n",
    "for df in badData:\n",
    "    try:\n",
    "        badFinal = badFinal.append(df)\n",
    "    except:\n",
    "        badFinal = df\n",
    "badFinal.to_csv(bad_meta_file)"
   ]
  },
  {
   "cell_type": "code",
   "execution_count": null,
   "metadata": {},
   "outputs": [],
   "source": [
    "# The bad data needs to be manually corrected - once it is, it can be read back in and re-written\n",
    "fixed_bad_data = pd.read_csv(bad_meta_file.replace(\".txt\", \".csv\"), index_col=0)\n",
    "fixed_bad_data['folder'] = fixed_bad_data['file'].apply(lambda x: os.path.dirname(x))\n",
    "geoms = fixed_bad_data['geometry'].apply(lambda x: shapely.wkt.loads(x))\n",
    "fixed_bad_data = gpd.GeoDataFrame(fixed_bad_data, geometry=geoms, crs={'init':'epsg:4326'})\n",
    "\n",
    "def roundit(x):\n",
    "    if len(str(x)) > 4:\n",
    "        x = round(x, 2)\n",
    "    return(x)\n",
    "fixed_bad_data['Res'] = fixed_bad_data['Res'].apply(lambda x: roundit(x))\n",
    "fixed_bad_data['Res'].unique()"
   ]
  },
  {
   "cell_type": "code",
   "execution_count": null,
   "metadata": {
    "scrolled": true
   },
   "outputs": [],
   "source": [
    "importlib.reload(imageryExtents)\n",
    "\n",
    "fixed = []\n",
    "still_bad = []\n",
    "fubar = []\n",
    "\n",
    "for folder in fixed_bad_data['folder'].unique():\n",
    "    metadata = fixed_bad_data.loc[fixed_bad_data['folder'] == folder]\n",
    "    imgObj = imageryExtents.deliveredImageryFolder(folder, outFolder, globalBoundaries, \"\", metadata) \n",
    "    \n",
    "    #Check if this imgObj has already been processed\n",
    "    processedFile = os.path.join(processedFolder, os.path.basename(imgObj.jsonFile))\n",
    "    if not os.path.exists(processedFile) and not os.path.exists(imgObj.jsonFile):\n",
    "        if imgObj.valid_metadata(metadata):\n",
    "            print(imgObj.jsonFile)\n",
    "            #thumbnail = imgObj.generateThumbnails()\n",
    "            #imgJSON = imgObj.createJSON(pNumber=\"NA\", securityClassification=\"Official Use Only\")\n",
    "            #zipFile = imgObj.zipData()            \n",
    "        else:\n",
    "            still_bad.append(metadata)\n",
    "        fixed.append(folder)            \n",
    "    else:\n",
    "        fubar.append(folder)    \n",
    "        \n",
    "# Write the correctly processed imagery files to the processed folders list\n",
    "with open(processed_file, 'a') as out_file:\n",
    "    for folder in fixed:\n",
    "        out_file.write(f'{folder}\\n')"
   ]
  },
  {
   "cell_type": "markdown",
   "metadata": {},
   "source": [
    "# What to do with error data\n"
   ]
  },
  {
   "cell_type": "code",
   "execution_count": null,
   "metadata": {},
   "outputs": [],
   "source": [
    "from shapely.wkt import loads\n",
    "import json"
   ]
  },
  {
   "cell_type": "code",
   "execution_count": null,
   "metadata": {},
   "outputs": [],
   "source": [
    "# For these broken SPOT files, run the following command in arcpy - for some reason\n",
    "#  The actual .tif files are not spatially referenced\n",
    "original_location = r'S:\\COUNTRY\\TJK\\IMAGERY\\3020003_HEIN_01800_071401_Tajik_Hazard_SO17014201-8-01_DS_SPOT6_201310200533280_FR1_FR1_SE1_SE1_E073N38_01952\\PROD_SPOT6_001\\VOL_SPOT6_001_A\\IMG_SPOT6_MS_001_A\\DIM_SPOT6_MS_201310200533280_SEN_2406078101.XML'\n",
    "xx = arcpy.Raster(original_location)\n",
    "print(xx.extent.polygon.WKT)\n",
    "print(xx.bandCount)\n",
    "print(xx.meanCellHeight)"
   ]
  },
  {
   "cell_type": "code",
   "execution_count": null,
   "metadata": {},
   "outputs": [],
   "source": [
    "\n",
    "zip_file_base = \"I:\\ddhfiles\\internal\\imagerysource\\Ingest\"\n",
    "bbox = \"MULTIPOLYGON (((73.083069374010321 38.361483576899239, 73.529317605137848 38.361483576899239, 73.529317605137848 38.682390625431829, 73.083069374010321 38.682390625431829, 73.083069374010321 38.361483576899239)))\"\n",
    "bbox_shp = loads(bbox)\n",
    "iso3 = \";\".join(list(globalBoundaries[globalBoundaries.intersects(bbox_shp)]['ISO3']))\n",
    "g_hash = geohash.encode(bbox_shp.centroid.y, bbox_shp.centroid.x)\n",
    "band_count = 4\n",
    "resolution = 5\n",
    "vendor = \"SPOT\"\n",
    "date = \"20131020\"\n",
    "filename = f\"{iso3}_{g_hash}_{band_count}_{resolution}_{date}.json\"\n",
    "filename"
   ]
  },
  {
   "cell_type": "code",
   "execution_count": null,
   "metadata": {},
   "outputs": [],
   "source": [
    "vals = {\n",
    "    \"title\":f\"Satellite imagery for {iso3}\",\n",
    "    'iso3':f'{iso3}',\n",
    "    'location':f'{os.path.join(zip_file_base, filename.replace(\".json\",\".zip\"))}',\n",
    "    'zipped_size':563444000,\n",
    "    'resolution':f'{resolution}',\n",
    "    'nBands':f'{band_count}',\n",
    "    'vendor':f'{vendor}',\n",
    "    'capture_date':f'{date}',\n",
    "    'pNumber':'NA',\n",
    "    \"securityClassification\": \"Official Use Only\", \n",
    "    \"ImageExtent\":str(bbox_shp),\n",
    "    'originalLocation':original_location\n",
    "}\n",
    "with open(os.path.join(zip_file_base, filename), 'w') as j:\n",
    "    json.dump(vals, j)"
   ]
  },
  {
   "cell_type": "code",
   "execution_count": null,
   "metadata": {},
   "outputs": [],
   "source": [
    "g_hash"
   ]
  },
  {
   "cell_type": "markdown",
   "metadata": {},
   "source": [
    "# Debugging"
   ]
  },
  {
   "cell_type": "code",
   "execution_count": null,
   "metadata": {},
   "outputs": [],
   "source": [
    "in_folder =\"R:\\\\IMAGERY\\\\10 cities Africa\\\\SPOT\\\\KigaliRwanda\\\\kigali_2011\""
   ]
  },
  {
   "cell_type": "code",
   "execution_count": null,
   "metadata": {},
   "outputs": [],
   "source": [
    "importlib.reload(imageryExtents)\n",
    "imgObj = imageryExtents.deliveredImageryFolder(in_folder, outFolder, globalBoundaries, \"\") \n",
    "imgObj.jsonFile\n",
    "        "
   ]
  },
  {
   "cell_type": "code",
   "execution_count": null,
   "metadata": {},
   "outputs": [],
   "source": [
    "inputExtent = imgObj.allMetadata.unary_union\n",
    "imgObj.country['overlap'] = imgObj.country['geometry'].apply(lambda x: x.intersection(inputExtent).area/inputExtent.area)\n",
    "imgObj."
   ]
  },
  {
   "cell_type": "code",
   "execution_count": null,
   "metadata": {},
   "outputs": [],
   "source": [
    "for folder in imgFolders:\n",
    "    if \"SIIS_Imagery\" in folder:\n",
    "        imgObj = imageryExtents.deliveredImageryFolder(folder, outFolder, globalBoundaries, \"\")\n",
    "        print(folder)\n",
    "        #print(f'{imgObj.jsonFile}: {os.path.exists(imgObj.jsonFile)}')"
   ]
  },
  {
   "cell_type": "code",
   "execution_count": null,
   "metadata": {},
   "outputs": [],
   "source": [
    "importlib.reload(imageryExtents)\n",
    "folder = r\"R:\\IMAGERY\\SIIS_Imagery\\K5_20200825170351_000010_38493_D_ES04_HH_GEC_B_L1C\"\n",
    "imgObj = imageryExtents.deliveredImageryFolder(folder, outFolder, globalBoundaries, \"\")\n",
    "metaData = imgObj.getMetadata()\n",
    "metaData"
   ]
  },
  {
   "cell_type": "code",
   "execution_count": null,
   "metadata": {},
   "outputs": [],
   "source": [
    "imgObj.valid_metadata(metaData)"
   ]
  },
  {
   "cell_type": "code",
   "execution_count": null,
   "metadata": {},
   "outputs": [],
   "source": [
    "imgObj.jsonFile"
   ]
  },
  {
   "cell_type": "markdown",
   "metadata": {},
   "source": [
    "# Convert imagery to smaller file size"
   ]
  },
  {
   "cell_type": "code",
   "execution_count": null,
   "metadata": {},
   "outputs": [],
   "source": [
    "sourceFolder =    r\"R:\\IMAGERY\\ZIMSTAT\"# The folder of imagery to process\n",
    "all_tiffs = []\n",
    "\n",
    "for root, dirs, files in os.walk(sourceFolder):\n",
    "    for f in files:\n",
    "        if f[-4:] == \".TIF\":\n",
    "            all_tiffs.append(os.path.join(root, f))\n",
    "            \n",
    "all_tiffs"
   ]
  },
  {
   "cell_type": "code",
   "execution_count": null,
   "metadata": {},
   "outputs": [],
   "source": [
    "out_folder = \"R:\\IMAGERY\\ZIMSTAT_SMALL\"\n",
    "if not os.path.exists(out_folder):\n",
    "    os.makedirs(out_folder)"
   ]
  },
  {
   "cell_type": "code",
   "execution_count": null,
   "metadata": {},
   "outputs": [],
   "source": [
    "cur_tif = all_tiffs[0]\n",
    "\n",
    "new_tif = cur_tif.replace(sourceFolder, out_folder)\n",
    "cur_base = os.path.dirname(new_tif)\n",
    "if not os.path.exists(cur_base):\n",
    "    os.makedirs(cur_base)\n",
    "    \n",
    "print(f'gdal_translate -of GTiff -co \"COMPRESS=LZW\" -co \"PREDICTOR=2\" -co \"TILED=YES\" {cur_tif} {new_tif}')"
   ]
  },
  {
   "cell_type": "code",
   "execution_count": null,
   "metadata": {},
   "outputs": [],
   "source": [
    "os.path.getsize(cur_tif) / 1028 / 1028"
   ]
  },
  {
   "cell_type": "code",
   "execution_count": null,
   "metadata": {},
   "outputs": [],
   "source": [
    "os.path.getsize(new_tif) / 1028 / 1028"
   ]
  },
  {
   "cell_type": "code",
   "execution_count": null,
   "metadata": {},
   "outputs": [],
   "source": [
    "xx = rasterio.open(cur_tif)\n",
    "xx.dtype"
   ]
  },
  {
   "cell_type": "code",
   "execution_count": null,
   "metadata": {},
   "outputs": [],
   "source": [
    "xx.dtypes"
   ]
  },
  {
   "cell_type": "code",
   "execution_count": null,
   "metadata": {},
   "outputs": [],
   "source": []
  }
 ],
 "metadata": {
  "kernelspec": {
   "display_name": "Python (geog)",
   "language": "python",
   "name": "geog"
  },
  "language_info": {
   "codemirror_mode": {
    "name": "ipython",
    "version": 3
   },
   "file_extension": ".py",
   "mimetype": "text/x-python",
   "name": "python",
   "nbconvert_exporter": "python",
   "pygments_lexer": "ipython3",
   "version": "3.8.5"
  }
 },
 "nbformat": 4,
 "nbformat_minor": 2
}
